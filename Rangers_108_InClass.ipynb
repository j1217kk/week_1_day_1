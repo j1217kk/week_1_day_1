{
 "cells": [
  {
   "cell_type": "markdown",
   "metadata": {},
   "source": [
    "# Week 2 - Monday Lesson (variable assignment, loops, lists)"
   ]
  },
  {
   "cell_type": "markdown",
   "metadata": {},
   "source": [
    "## Tasks Today:\n",
    "\n",
    "1) Int & Float assignments <br>\n",
    " &nbsp;&nbsp;&nbsp;&nbsp; a) Assigning int <br>\n",
    " &nbsp;&nbsp;&nbsp;&nbsp; b) Assigning float <br>\n",
    " &nbsp;&nbsp;&nbsp;&nbsp; c) Performing Calculations on ints and floats <br>\n",
    " &nbsp;&nbsp;&nbsp;&nbsp;&nbsp;&nbsp;&nbsp;&nbsp; - Addition <br>\n",
    " &nbsp;&nbsp;&nbsp;&nbsp;&nbsp;&nbsp;&nbsp;&nbsp; - Subtraction <br>\n",
    " &nbsp;&nbsp;&nbsp;&nbsp;&nbsp;&nbsp;&nbsp;&nbsp; - Multiplication <br>\n",
    " &nbsp;&nbsp;&nbsp;&nbsp;&nbsp;&nbsp;&nbsp;&nbsp; - Division <br>\n",
    " &nbsp;&nbsp;&nbsp;&nbsp;&nbsp;&nbsp;&nbsp;&nbsp; - Floor Division <br>\n",
    " &nbsp;&nbsp;&nbsp;&nbsp;&nbsp;&nbsp;&nbsp;&nbsp; - Modulo <br>\n",
    " &nbsp;&nbsp;&nbsp;&nbsp;&nbsp;&nbsp;&nbsp;&nbsp; - Exponential <br>\n",
    "2) String Input-Output <br>\n",
    " &nbsp;&nbsp;&nbsp;&nbsp; a) String Assignment <br>\n",
    " &nbsp;&nbsp;&nbsp;&nbsp; b) print() <br>\n",
    " &nbsp;&nbsp;&nbsp;&nbsp; c) String Concatenation <br>\n",
    " &nbsp;&nbsp;&nbsp;&nbsp; d) Type Conversion <br>\n",
    " &nbsp;&nbsp;&nbsp;&nbsp; e) input() <br>\n",
    " &nbsp;&nbsp;&nbsp;&nbsp; f) format() <br>\n",
    " &nbsp;&nbsp;&nbsp;&nbsp; g) Old Way (python 2) <br>\n",
    "3) <b>In-Class Exercise #1</b> <br>\n",
    "4) If Statements <br>\n",
    " &nbsp;&nbsp;&nbsp;&nbsp; a) 'is' keyword <br>\n",
    " &nbsp;&nbsp;&nbsp;&nbsp; b) 'in' keyword <br>\n",
    " &nbsp;&nbsp;&nbsp;&nbsp; c) 'not in' keyword <br>\n",
    "5) <b>In-Class Exercise #2</b> <br>\n",
    "6) Elif Statements <br>\n",
    "7) Else Statements <br>\n",
    "8) <b>In-Class Exercise #3</b> <br>\n",
    "9) Built-In Functions <br>\n",
    "\n",
    " &nbsp;&nbsp;&nbsp;&nbsp; b) len() <br>\n",
    " &nbsp;&nbsp;&nbsp;&nbsp; c) help() <br>\n",
    " &nbsp;&nbsp;&nbsp;&nbsp; d) isinstance() <br>\n",
    " &nbsp;&nbsp;&nbsp;&nbsp; e) abs() <br>\n",
    "10) Try and Except <br>\n"
   ]
  },
  {
   "cell_type": "markdown",
   "metadata": {},
   "source": [
    "### Int & Float Assignments"
   ]
  },
  {
   "cell_type": "markdown",
   "metadata": {},
   "source": [
    "##### Assigning int"
   ]
  },
  {
   "cell_type": "code",
   "execution_count": 1,
   "metadata": {},
   "outputs": [
    {
     "name": "stdout",
     "output_type": "stream",
     "text": [
      "10\n"
     ]
    }
   ],
   "source": [
    "number = 10\n",
    "print(number)"
   ]
  },
  {
   "cell_type": "markdown",
   "metadata": {},
   "source": [
    "##### Assinging float"
   ]
  },
  {
   "cell_type": "code",
   "execution_count": 2,
   "metadata": {},
   "outputs": [
    {
     "name": "stdout",
     "output_type": "stream",
     "text": [
      "10.5\n"
     ]
    }
   ],
   "source": [
    "num_float = 10.5\n",
    "print(num_float)"
   ]
  },
  {
   "cell_type": "markdown",
   "metadata": {},
   "source": [
    "#### Performing Calculations on ints and floats"
   ]
  },
  {
   "cell_type": "markdown",
   "metadata": {},
   "source": [
    "##### Addition"
   ]
  },
  {
   "cell_type": "code",
   "execution_count": 3,
   "metadata": {},
   "outputs": [
    {
     "name": "stdout",
     "output_type": "stream",
     "text": [
      "10\n"
     ]
    }
   ],
   "source": [
    "num1 = 7\n",
    "num2 = 3\n",
    "\n",
    "result = num1 + num2\n",
    "print(result)"
   ]
  },
  {
   "cell_type": "markdown",
   "metadata": {},
   "source": [
    "##### Subtraction"
   ]
  },
  {
   "cell_type": "code",
   "execution_count": 5,
   "metadata": {},
   "outputs": [
    {
     "name": "stdout",
     "output_type": "stream",
     "text": [
      "4\n"
     ]
    }
   ],
   "source": [
    "difference = num1 - num2\n",
    "print(difference)"
   ]
  },
  {
   "cell_type": "markdown",
   "metadata": {},
   "source": [
    "##### Multiplication"
   ]
  },
  {
   "cell_type": "code",
   "execution_count": 6,
   "metadata": {},
   "outputs": [
    {
     "name": "stdout",
     "output_type": "stream",
     "text": [
      "21\n"
     ]
    }
   ],
   "source": [
    "product = num1 * num2\n",
    "print(product)"
   ]
  },
  {
   "cell_type": "markdown",
   "metadata": {},
   "source": [
    "##### Division"
   ]
  },
  {
   "cell_type": "code",
   "execution_count": 8,
   "metadata": {},
   "outputs": [
    {
     "name": "stdout",
     "output_type": "stream",
     "text": [
      "2.5\n"
     ]
    }
   ],
   "source": [
    "num1 = 5\n",
    "num2 = 2\n",
    "quotient = num1/num2\n",
    "print(quotient)"
   ]
  },
  {
   "cell_type": "markdown",
   "metadata": {},
   "source": [
    "##### Floor Division"
   ]
  },
  {
   "cell_type": "code",
   "execution_count": 9,
   "metadata": {},
   "outputs": [
    {
     "name": "stdout",
     "output_type": "stream",
     "text": [
      "2\n"
     ]
    }
   ],
   "source": [
    "result = num1//num2\n",
    "print(result)"
   ]
  },
  {
   "cell_type": "markdown",
   "metadata": {},
   "source": [
    "##### Modulo"
   ]
  },
  {
   "cell_type": "code",
   "execution_count": 12,
   "metadata": {},
   "outputs": [
    {
     "name": "stdout",
     "output_type": "stream",
     "text": [
      "0\n",
      "1\n"
     ]
    }
   ],
   "source": [
    "num1 = 4\n",
    "num2 = 2\n",
    "modulo_result = num1%num2\n",
    "print(modulo_result)\n",
    "num1 = 5\n",
    "num2 = 2\n",
    "modulo_result = num1%num2\n",
    "print(modulo_result)"
   ]
  },
  {
   "cell_type": "markdown",
   "metadata": {},
   "source": [
    "##### Exponential"
   ]
  },
  {
   "cell_type": "code",
   "execution_count": 16,
   "metadata": {},
   "outputs": [
    {
     "name": "stdout",
     "output_type": "stream",
     "text": [
      "25\n",
      "625\n"
     ]
    }
   ],
   "source": [
    "square = 5 ** 2\n",
    "print(square)\n",
    "\n",
    "square **= 2\n",
    "\n",
    "print(square)"
   ]
  },
  {
   "cell_type": "markdown",
   "metadata": {},
   "source": [
    "### String Input-Output"
   ]
  },
  {
   "cell_type": "markdown",
   "metadata": {},
   "source": [
    "##### String Assignment"
   ]
  },
  {
   "cell_type": "code",
   "execution_count": 18,
   "metadata": {},
   "outputs": [
    {
     "name": "stdout",
     "output_type": "stream",
     "text": [
      "John\n"
     ]
    }
   ],
   "source": [
    "name = \"John\"\n",
    "print(name)"
   ]
  },
  {
   "cell_type": "markdown",
   "metadata": {},
   "source": [
    "##### print() <br>\n",
    "<p>Don't forget about end=' '</p>"
   ]
  },
  {
   "cell_type": "code",
   "execution_count": 26,
   "metadata": {},
   "outputs": [
    {
     "name": "stdout",
     "output_type": "stream",
     "text": [
      "John!John\n",
      "\n",
      "\n",
      "John\n",
      "This is my first name:  John\n",
      "Full name:  John Kim\n",
      "\n",
      "This is my first name: John\n",
      "Full name: John Kim"
     ]
    }
   ],
   "source": [
    "print(name, end=\"!\")\n",
    "print(name, end=\"\\n\\n\\n\")\n",
    "print(name)\n",
    "print(\"This is my first name: \", name)n # , is passing in argument vs + which is concatenating\n",
    "print(\"Full name: \", name, end=\" Kim\")\n",
    "print(\"\\n\")\n",
    "print(\"This is my first name: \"+ name)\n",
    "print(\"Full name: \"+  name, end=\" Kim\")\n"
   ]
  },
  {
   "cell_type": "markdown",
   "metadata": {},
   "source": [
    "##### String Concatenation"
   ]
  },
  {
   "cell_type": "code",
   "execution_count": 29,
   "metadata": {},
   "outputs": [
    {
     "name": "stdout",
     "output_type": "stream",
     "text": [
      "JohnKim\n",
      "John Kim\n",
      "John Kim Python Coder\n"
     ]
    }
   ],
   "source": [
    "first_name = \"John\"\n",
    "last_name = \"Kim\"\n",
    "full_name = first_name + last_name\n",
    "print(full_name)\n",
    "full_name = first_name + \" \" + last_name\n",
    "print(full_name)\n",
    "full_name += \" Python Coder\"\n",
    "print(full_name)"
   ]
  },
  {
   "cell_type": "markdown",
   "metadata": {},
   "source": [
    "##### Type Conversion"
   ]
  },
  {
   "cell_type": "code",
   "execution_count": 31,
   "metadata": {},
   "outputs": [
    {
     "name": "stdout",
     "output_type": "stream",
     "text": [
      "64\n",
      "3.0\n"
     ]
    }
   ],
   "source": [
    "num = \"32\"\n",
    "\n",
    "new_num = int(num)\n",
    "\n",
    "num2 = 32\n",
    "result = new_num + num2\n",
    "print(result)\n",
    "\n",
    "number = 3\n",
    "new_float = float(number)\n",
    "print(new_float)"
   ]
  },
  {
   "cell_type": "markdown",
   "metadata": {},
   "source": [
    "##### input()"
   ]
  },
  {
   "cell_type": "code",
   "execution_count": 35,
   "metadata": {},
   "outputs": [
    {
     "name": "stdout",
     "output_type": "stream",
     "text": [
      "What is your name? John Kim\n",
      "Your name is  John Kim\n",
      "What is your quest? Holy Grail\n",
      "Your quest is  Holy Grail\n",
      "What is your favorite color? GOld\n",
      "Your favourite color  GOld\n"
     ]
    }
   ],
   "source": [
    "#input() will ALWAYS return a string... ALL THE TIME.\n",
    "\n",
    "name = input(\"What is your name? \")\n",
    "print(\"Your name is\", name)\n",
    "quest = input(\"What is your quest? \")\n",
    "print(\"Your quest is\", quest)\n",
    "\n",
    "color = input(\"What is your favorite color? \")\n",
    "print(\"Your favourite color\", color)\n"
   ]
  },
  {
   "cell_type": "code",
   "execution_count": 36,
   "metadata": {},
   "outputs": [
    {
     "name": "stdout",
     "output_type": "stream",
     "text": [
      "How old are you? 100\n",
      "100\n",
      "101\n"
     ]
    }
   ],
   "source": [
    "age = int(input(\"How old are you? \"))\n",
    "print(age)\n",
    "add_age = age + 1\n",
    "print(add_age)"
   ]
  },
  {
   "cell_type": "markdown",
   "metadata": {},
   "source": [
    "##### format()"
   ]
  },
  {
   "cell_type": "code",
   "execution_count": 43,
   "metadata": {},
   "outputs": [
    {
     "name": "stdout",
     "output_type": "stream",
     "text": [
      "How old are you? 101\n",
      "What is your name? JOhn\n",
      "You are 101 years old, JOhn and you are getting wiser!\n",
      "To be 101 is a blessing!\n"
     ]
    }
   ],
   "source": [
    "age = int(input(\"How old are you? \"))\n",
    "name = input(\"What is your name? \")\n",
    "\n",
    "result_string = \"You are {} years old, {} and you are getting wiser!\".format(age, name)\n",
    "print(result_string)\n",
    "\n",
    "result_string = f\"To be {age} is a blessing!\" #fstring shortcut\n",
    "print(result_string)"
   ]
  },
  {
   "cell_type": "markdown",
   "metadata": {},
   "source": [
    "##### Old Way (python 2)"
   ]
  },
  {
   "cell_type": "code",
   "execution_count": 44,
   "metadata": {},
   "outputs": [
    {
     "name": "stdout",
     "output_type": "stream",
     "text": [
      "You are 101 and you look great for your aage!\n"
     ]
    }
   ],
   "source": [
    "result_string2 = \"You are %s and you look great for your aage!\" %age\n",
    "print(result_string2)"
   ]
  },
  {
   "cell_type": "markdown",
   "metadata": {},
   "source": [
    "# In-Class Exercise 1 <br>\n",
    "<p>Create a format statement that asks for color, year, make, model and prints out the results</p>"
   ]
  },
  {
   "cell_type": "code",
   "execution_count": 48,
   "metadata": {},
   "outputs": [
    {
     "name": "stdout",
     "output_type": "stream",
     "text": [
      "What color is your car? Gray\n",
      "What year was your car made? 2016\n",
      "What make is your car? Hyundai\n",
      "What model is your car? Genesis Coupe 3.8L\n",
      "You have a Gray 2016 Hyundai Genesis Coupe 3.8L\n"
     ]
    }
   ],
   "source": [
    "color = input(\"What color is your car? \")\n",
    "year = int(input(\"What year was your car made? \"))\n",
    "make = input(\"What make is your car? \")\n",
    "model = input(\"What model is your car? \")\n",
    "\n",
    "result = f\"You have a {color} {year} {make} {model}\"\n",
    "print(result)\n"
   ]
  },
  {
   "cell_type": "markdown",
   "metadata": {},
   "source": [
    "### If Statements"
   ]
  },
  {
   "cell_type": "code",
   "execution_count": 50,
   "metadata": {},
   "outputs": [
    {
     "name": "stdout",
     "output_type": "stream",
     "text": [
      "Not Equal\n",
      "Num2 is greater or equal\n"
     ]
    }
   ],
   "source": [
    "#Truth Tree\n",
    "#if there is True & False, it will be False... #T & F = F\n",
    "#T && T = T\n",
    "#T && T = T\n",
    "#T | F = T\n",
    "#F | T = T\n",
    "#F | F = F\n",
    "num1 = 5\n",
    "num2 = 10\n",
    "\n",
    "if num2 == num1:\n",
    "    print(\"Equal Values\")\n",
    "else:\n",
    "    print(\"Not Equal\")\n",
    "    \n",
    "if num2 >= num1:\n",
    "    print(\"Num2 is greater or equal\")\n",
    "else:\n",
    "    print(\"Num2 is less\")\n",
    "    \n"
   ]
  },
  {
   "cell_type": "markdown",
   "metadata": {},
   "source": [
    "##### 'is' keyword"
   ]
  },
  {
   "cell_type": "code",
   "execution_count": 51,
   "metadata": {
    "scrolled": true
   },
   "outputs": [
    {
     "name": "stdout",
     "output_type": "stream",
     "text": [
      "This is the same object/number/space in memory\n"
     ]
    }
   ],
   "source": [
    "#use the \"is\" keyword when checking for same/similar objects, NOT same value\n",
    "num3 = 55\n",
    "\n",
    "num4 = num3\n",
    "\n",
    "if num4 is num3:\n",
    "    print(\"This is the same object/number/space in memory\")"
   ]
  },
  {
   "cell_type": "markdown",
   "metadata": {},
   "source": [
    "##### 'in' keyword"
   ]
  },
  {
   "cell_type": "code",
   "execution_count": 56,
   "metadata": {},
   "outputs": [
    {
     "name": "stdout",
     "output_type": "stream",
     "text": [
      "Boba Fett in the house\n",
      "Nope\n",
      "its here\n"
     ]
    }
   ],
   "source": [
    "char_name = \"Boba Fett\"\n",
    "if \"Boba\" in char_name:\n",
    "    print(\"Boba Fett in the house\")\n",
    "if \"f\" in char_name:\n",
    "    print(\"its here\")\n",
    "else:\n",
    "    print(\"Nope\")\n",
    "    \n",
    "if \"f\" in char_name.lower():\n",
    "    print(\"its here\")\n",
    "else:\n",
    "    print(\"Nope\")"
   ]
  },
  {
   "cell_type": "markdown",
   "metadata": {},
   "source": [
    "##### 'not in' keyword'"
   ]
  },
  {
   "cell_type": "code",
   "execution_count": 54,
   "metadata": {},
   "outputs": [
    {
     "name": "stdout",
     "output_type": "stream",
     "text": [
      "Jabba not in the house\n"
     ]
    }
   ],
   "source": [
    "char_name = \"Boba Fett\"\n",
    "if \"Jabba\" not in char_name:\n",
    "    print(\"Jabba not in the house\")"
   ]
  },
  {
   "cell_type": "markdown",
   "metadata": {},
   "source": [
    "# In-Class Exercise 2 <br>\n",
    "<p>Ask user for input, check to see if the letter 'p' is in the input</p>"
   ]
  },
  {
   "cell_type": "code",
   "execution_count": 58,
   "metadata": {},
   "outputs": [
    {
     "name": "stdout",
     "output_type": "stream",
     "text": [
      "Say something fool the price is right\n",
      "'p' is included\n"
     ]
    }
   ],
   "source": [
    "#Ask user for input, check to see if the letter 'p' is in the input\n",
    "#check for case sensitivity\n",
    "\n",
    "word = input(\"Say something fool: \")\n",
    "if 'p' in word.lower():\n",
    "    print(\"'p' is included\")\n",
    "else: \n",
    "    print(\"'p' is not included\")"
   ]
  },
  {
   "cell_type": "markdown",
   "metadata": {},
   "source": [
    "## Using 'and'/'or' with If Statements"
   ]
  },
  {
   "cell_type": "code",
   "execution_count": 60,
   "metadata": {},
   "outputs": [
    {
     "name": "stdout",
     "output_type": "stream",
     "text": [
      "true and true\n",
      "True and False\n"
     ]
    }
   ],
   "source": [
    "num1 = 15\n",
    "num2 = 3\n",
    "num3 = 10\n",
    "num4 = 3\n",
    "\n",
    "if num1 / 5 == num2 and num3 - 7 == num4:\n",
    "    print(\"true and true\")\n",
    "    \n",
    "if num1 > num2 or num3 == num4:\n",
    "    print(\"True and False\")\n"
   ]
  },
  {
   "cell_type": "markdown",
   "metadata": {},
   "source": [
    "### Elif Statements"
   ]
  },
  {
   "cell_type": "code",
   "execution_count": 62,
   "metadata": {},
   "outputs": [
    {
     "name": "stdout",
     "output_type": "stream",
     "text": [
      "That's a normal first name\n"
     ]
    }
   ],
   "source": [
    "first_name = \"Max\"\n",
    "if first_name == \"Smith\":\n",
    "    print(\"That's a weird first name\")\n",
    "elif first_name == \"Max\":\n",
    "    print(\"That's a normal first name\")\n",
    "else:\n",
    "    print(\"I dont know what your first name is\")"
   ]
  },
  {
   "cell_type": "markdown",
   "metadata": {},
   "source": [
    "### Else Statements"
   ]
  },
  {
   "cell_type": "code",
   "execution_count": 63,
   "metadata": {},
   "outputs": [
    {
     "name": "stdout",
     "output_type": "stream",
     "text": [
      "The number is not 20 or 15 it is 10\n"
     ]
    }
   ],
   "source": [
    "# see above\n",
    "number = 10\n",
    "if number == 20:\n",
    "    print(number)\n",
    "elif number == 15:\n",
    "    print(number)\n",
    "else:\n",
    "    print(f\"The number is not 20 or 15 it is {number}\")"
   ]
  },
  {
   "cell_type": "markdown",
   "metadata": {},
   "source": [
    "### String Manipulation"
   ]
  },
  {
   "cell_type": "markdown",
   "metadata": {},
   "source": [
    "#### .lstrip()"
   ]
  },
  {
   "cell_type": "code",
   "execution_count": 65,
   "metadata": {},
   "outputs": [
    {
     "name": "stdout",
     "output_type": "stream",
     "text": [
      "     Yooo what's up? \n",
      "Yooo what's up? \n"
     ]
    }
   ],
   "source": [
    "phrase = \"     Yooo what's up? \"\n",
    "print(phrase)\n",
    "print(phrase.lstrip())"
   ]
  },
  {
   "cell_type": "markdown",
   "metadata": {},
   "source": [
    "#### .rstrip()"
   ]
  },
  {
   "cell_type": "code",
   "execution_count": 67,
   "metadata": {},
   "outputs": [
    {
     "name": "stdout",
     "output_type": "stream",
     "text": [
      "Yooo what's up?      How's it going?\n",
      "Yooo what's up? How's it going?\n"
     ]
    }
   ],
   "source": [
    "phrase = \"Yooo what's up?     \"\n",
    "print(f\"{phrase} How's it going?\")\n",
    "print(f\"{phrase.rstrip()} How's it going?\")\n"
   ]
  },
  {
   "cell_type": "markdown",
   "metadata": {},
   "source": [
    "#### .strip()"
   ]
  },
  {
   "cell_type": "code",
   "execution_count": 68,
   "metadata": {},
   "outputs": [
    {
     "name": "stdout",
     "output_type": "stream",
     "text": [
      "Yessir! Yooo what's up? How's it going?\n"
     ]
    }
   ],
   "source": [
    "phrase = \"   Yooo what's up?     \"\n",
    "print(f\"Yessir! {phrase.strip()} How's it going?\")"
   ]
  },
  {
   "cell_type": "markdown",
   "metadata": {},
   "source": [
    "#### .title()"
   ]
  },
  {
   "cell_type": "code",
   "execution_count": 69,
   "metadata": {},
   "outputs": [
    {
     "name": "stdout",
     "output_type": "stream",
     "text": [
      "John Kim\n"
     ]
    }
   ],
   "source": [
    "name = 'john kim'\n",
    "print(name.title())"
   ]
  },
  {
   "cell_type": "markdown",
   "metadata": {},
   "source": [
    "#### .upper()"
   ]
  },
  {
   "cell_type": "code",
   "execution_count": 71,
   "metadata": {},
   "outputs": [
    {
     "name": "stdout",
     "output_type": "stream",
     "text": [
      "JOHN KIM\n"
     ]
    }
   ],
   "source": [
    "name = 'john kim'\n",
    "print(name.upper())"
   ]
  },
  {
   "cell_type": "markdown",
   "metadata": {},
   "source": [
    "#### .lower()"
   ]
  },
  {
   "cell_type": "code",
   "execution_count": 70,
   "metadata": {
    "scrolled": true
   },
   "outputs": [
    {
     "name": "stdout",
     "output_type": "stream",
     "text": [
      "john kim\n"
     ]
    }
   ],
   "source": [
    "name = 'JOHN KIM'\n",
    "print(name.lower())"
   ]
  },
  {
   "cell_type": "markdown",
   "metadata": {},
   "source": [
    "### String Exercise"
   ]
  },
  {
   "cell_type": "markdown",
   "metadata": {},
   "source": [
    "Have a user input a name. Return the name with all white space removed and each first letter capitalized."
   ]
  },
  {
   "cell_type": "code",
   "execution_count": 73,
   "metadata": {},
   "outputs": [
    {
     "name": "stdout",
     "output_type": "stream",
     "text": [
      "What is your name?        loser yadig\n",
      "Loser Yadig\n"
     ]
    }
   ],
   "source": [
    "name = input(\"What is your name? \")\n",
    "print(name.strip().title())"
   ]
  },
  {
   "cell_type": "markdown",
   "metadata": {},
   "source": [
    "### Built-In Functions"
   ]
  },
  {
   "cell_type": "markdown",
   "metadata": {},
   "source": [
    "##### len()"
   ]
  },
  {
   "cell_type": "code",
   "execution_count": 99,
   "metadata": {},
   "outputs": [
    {
     "name": "stdout",
     "output_type": "stream",
     "text": [
      "3\n",
      "8\n",
      "0\n",
      "1\n",
      "2\n",
      "3\n",
      "4\n",
      "5\n",
      "6\n",
      "7\n",
      "1\n",
      "2\n",
      "3\n",
      "4\n",
      "5\n",
      "6\n",
      "7\n",
      "8\n"
     ]
    }
   ],
   "source": [
    "#check the lenght of a given variable\n",
    "name = \"Max\"\n",
    "print(len(name))\n",
    "\n",
    "list1 = [1, 2, 3, 4, 5, 6, 7, 8]\n",
    "print(len(list1))\n",
    "\n",
    "for i in range(len(list1)):\n",
    "    print(i)\n",
    "\n",
    "for i in range(len(list1)):\n",
    "    print(list1[i])"
   ]
  },
  {
   "cell_type": "markdown",
   "metadata": {},
   "source": [
    "##### help()"
   ]
  },
  {
   "cell_type": "code",
   "execution_count": 114,
   "metadata": {},
   "outputs": [
    {
     "name": "stdout",
     "output_type": "stream",
     "text": [
      "Help on built-in function len in module builtins:\n",
      "\n",
      "len(obj, /)\n",
      "    Return the number of items in a container.\n",
      "\n",
      "Help on class range in module builtins:\n",
      "\n",
      "class range(object)\n",
      " |  range(stop) -> range object\n",
      " |  range(start, stop[, step]) -> range object\n",
      " |  \n",
      " |  Return an object that produces a sequence of integers from start (inclusive)\n",
      " |  to stop (exclusive) by step.  range(i, j) produces i, i+1, i+2, ..., j-1.\n",
      " |  start defaults to 0, and stop is omitted!  range(4) produces 0, 1, 2, 3.\n",
      " |  These are exactly the valid indices for a list of 4 elements.\n",
      " |  When step is given, it specifies the increment (or decrement).\n",
      " |  \n",
      " |  Methods defined here:\n",
      " |  \n",
      " |  __bool__(self, /)\n",
      " |      True if self else False\n",
      " |  \n",
      " |  __contains__(self, key, /)\n",
      " |      Return key in self.\n",
      " |  \n",
      " |  __eq__(self, value, /)\n",
      " |      Return self==value.\n",
      " |  \n",
      " |  __ge__(self, value, /)\n",
      " |      Return self>=value.\n",
      " |  \n",
      " |  __getattribute__(self, name, /)\n",
      " |      Return getattr(self, name).\n",
      " |  \n",
      " |  __getitem__(self, key, /)\n",
      " |      Return self[key].\n",
      " |  \n",
      " |  __gt__(self, value, /)\n",
      " |      Return self>value.\n",
      " |  \n",
      " |  __hash__(self, /)\n",
      " |      Return hash(self).\n",
      " |  \n",
      " |  __iter__(self, /)\n",
      " |      Implement iter(self).\n",
      " |  \n",
      " |  __le__(self, value, /)\n",
      " |      Return self<=value.\n",
      " |  \n",
      " |  __len__(self, /)\n",
      " |      Return len(self).\n",
      " |  \n",
      " |  __lt__(self, value, /)\n",
      " |      Return self<value.\n",
      " |  \n",
      " |  __ne__(self, value, /)\n",
      " |      Return self!=value.\n",
      " |  \n",
      " |  __reduce__(...)\n",
      " |      Helper for pickle.\n",
      " |  \n",
      " |  __repr__(self, /)\n",
      " |      Return repr(self).\n",
      " |  \n",
      " |  __reversed__(...)\n",
      " |      Return a reverse iterator.\n",
      " |  \n",
      " |  count(...)\n",
      " |      rangeobject.count(value) -> integer -- return number of occurrences of value\n",
      " |  \n",
      " |  index(...)\n",
      " |      rangeobject.index(value) -> integer -- return index of value.\n",
      " |      Raise ValueError if the value is not present.\n",
      " |  \n",
      " |  ----------------------------------------------------------------------\n",
      " |  Static methods defined here:\n",
      " |  \n",
      " |  __new__(*args, **kwargs) from builtins.type\n",
      " |      Create and return a new object.  See help(type) for accurate signature.\n",
      " |  \n",
      " |  ----------------------------------------------------------------------\n",
      " |  Data descriptors defined here:\n",
      " |  \n",
      " |  start\n",
      " |  \n",
      " |  step\n",
      " |  \n",
      " |  stop\n",
      "\n"
     ]
    }
   ],
   "source": [
    "#give more information about a python function\n",
    "\n",
    "# len? --> gives info about python function in DOCSTRING\n",
    "\n",
    "help(len)\n",
    "help(range)\n",
    "\n",
    "int?\n"
   ]
  },
  {
   "cell_type": "markdown",
   "metadata": {},
   "source": [
    "##### isinstance()"
   ]
  },
  {
   "cell_type": "code",
   "execution_count": 123,
   "metadata": {},
   "outputs": [
    {
     "name": "stdout",
     "output_type": "stream",
     "text": [
      "True\n",
      "False\n",
      "True\n",
      "False\n",
      "How old are you? 10\n",
      "False\n",
      "How old are you? 10\n",
      "True\n",
      "10\n"
     ]
    }
   ],
   "source": [
    "#checks what object family the variable belongs to. simply put, it checks what kind of data type it is.\n",
    "\n",
    "num = 10\n",
    "num2 = 10.0\n",
    "print(isinstance(num, int))\n",
    "print(isinstance(num, float))\n",
    "print(isinstance(num2, float))\n",
    "print(isinstance(num2, str))\n",
    "\n",
    "age = input(\"How old are you? \")\n",
    "print(isinstance(age, int))\n",
    "age = int(input(\"How old are you? \"))\n",
    "print(isinstance(age, int))\n",
    "if isinstance(age, int):\n",
    "    print(age)\n",
    "else:\n",
    "    print(\"Not an int\")"
   ]
  },
  {
   "cell_type": "markdown",
   "metadata": {},
   "source": [
    "##### abs()"
   ]
  },
  {
   "cell_type": "code",
   "execution_count": 125,
   "metadata": {},
   "outputs": [
    {
     "name": "stdout",
     "output_type": "stream",
     "text": [
      "10\n",
      "5\n"
     ]
    }
   ],
   "source": [
    "# absolute distance from zero\n",
    "print(abs(-10))\n",
    "print(abs(5-10))"
   ]
  },
  {
   "cell_type": "markdown",
   "metadata": {},
   "source": [
    "### Try and Except"
   ]
  },
  {
   "cell_type": "code",
   "execution_count": 129,
   "metadata": {},
   "outputs": [
    {
     "name": "stdout",
     "output_type": "stream",
     "text": [
      "Guess a number!60\n",
      "Your number is 60\n"
     ]
    }
   ],
   "source": [
    "# use whenever you expect to encounter a bug so that the error doesnt cause the program to stop\n",
    "#logs out graceful error messages to gently nudge user in the right direction\n",
    "\n",
    "try:\n",
    "    number_test = 0\n",
    "    input_num = int(input(\"Guess a number!\"))\n",
    "    if input_num != number_test:\n",
    "        input_num = input_num + number_test\n",
    "        print(\"Your number is\", input_num)\n",
    "except:\n",
    "    print(\"That did not work, please change your input to a number\")"
   ]
  },
  {
   "cell_type": "code",
   "execution_count": 130,
   "metadata": {},
   "outputs": [
    {
     "name": "stdout",
     "output_type": "stream",
     "text": [
      "Guess a number!google\n"
     ]
    },
    {
     "ename": "ValueError",
     "evalue": "invalid literal for int() with base 10: 'google'",
     "output_type": "error",
     "traceback": [
      "\u001b[1;31m---------------------------------------------------------------------------\u001b[0m",
      "\u001b[1;31mValueError\u001b[0m                                Traceback (most recent call last)",
      "\u001b[1;32m~\\AppData\\Local\\Temp\\ipykernel_51884\\658366309.py\u001b[0m in \u001b[0;36m<module>\u001b[1;34m\u001b[0m\n\u001b[0;32m      1\u001b[0m \u001b[0mnumber_test\u001b[0m \u001b[1;33m=\u001b[0m \u001b[1;36m0\u001b[0m\u001b[1;33m\u001b[0m\u001b[1;33m\u001b[0m\u001b[0m\n\u001b[1;32m----> 2\u001b[1;33m \u001b[0minput_num\u001b[0m \u001b[1;33m=\u001b[0m \u001b[0mint\u001b[0m\u001b[1;33m(\u001b[0m\u001b[0minput\u001b[0m\u001b[1;33m(\u001b[0m\u001b[1;34m\"Guess a number!\"\u001b[0m\u001b[1;33m)\u001b[0m\u001b[1;33m)\u001b[0m\u001b[1;33m\u001b[0m\u001b[1;33m\u001b[0m\u001b[0m\n\u001b[0m\u001b[0;32m      3\u001b[0m \u001b[1;32mif\u001b[0m \u001b[0minput_num\u001b[0m \u001b[1;33m!=\u001b[0m \u001b[0mnumber_test\u001b[0m\u001b[1;33m:\u001b[0m\u001b[1;33m\u001b[0m\u001b[1;33m\u001b[0m\u001b[0m\n\u001b[0;32m      4\u001b[0m     \u001b[0minput_num\u001b[0m \u001b[1;33m=\u001b[0m \u001b[0minput_num\u001b[0m \u001b[1;33m+\u001b[0m \u001b[0mnumber_test\u001b[0m\u001b[1;33m\u001b[0m\u001b[1;33m\u001b[0m\u001b[0m\n\u001b[0;32m      5\u001b[0m     \u001b[0mprint\u001b[0m\u001b[1;33m(\u001b[0m\u001b[1;34m\"Your number is\"\u001b[0m\u001b[1;33m,\u001b[0m \u001b[0minput_num\u001b[0m\u001b[1;33m)\u001b[0m\u001b[1;33m\u001b[0m\u001b[1;33m\u001b[0m\u001b[0m\n",
      "\u001b[1;31mValueError\u001b[0m: invalid literal for int() with base 10: 'google'"
     ]
    }
   ],
   "source": [
    "number_test = 0\n",
    "input_num = int(input(\"Guess a number!\"))\n",
    "if input_num != number_test:\n",
    "    input_num = input_num + number_test\n",
    "    print(\"Your number is\", input_num)\n",
    "    \n",
    "#notice for this you get error if you enter a string without the Try and Except"
   ]
  },
  {
   "cell_type": "markdown",
   "metadata": {},
   "source": [
    "## Exercise #1 <br>\n",
    "<p>Accept two user ages as inputs and give us the difference between them. (The Answer should always be a positive output(</p>"
   ]
  },
  {
   "cell_type": "code",
   "execution_count": 79,
   "metadata": {},
   "outputs": [
    {
     "name": "stdout",
     "output_type": "stream",
     "text": [
      "what is your age? 55\n",
      "You over there, what is your age? 0\n",
      "Your age difference is 55 years apart\n"
     ]
    }
   ],
   "source": [
    "age1 = int(input(\"what is your age? \"))\n",
    "age2 = int(input(\"You over there, what is your age? \"))\n",
    "\n",
    "difference = abs(age1 - age2)\n",
    "print(f\"Your age difference is {difference} years apart\")\n",
    "\n",
    "\n",
    "\n",
    "        \n",
    "        \n",
    "\n",
    "        \n",
    "        "
   ]
  },
  {
   "cell_type": "markdown",
   "metadata": {},
   "source": [
    "## Exercise #2 <br>\n",
    "<p>Accept 3 user inputs for variables named noun, verb and adjective. Print out a formatted string using the outputs.</p>"
   ]
  },
  {
   "cell_type": "code",
   "execution_count": 82,
   "metadata": {},
   "outputs": [
    {
     "name": "stdout",
     "output_type": "stream",
     "text": [
      "Input a noun: train\n",
      "Input a verb: goes\n",
      "Input an adjective: far\n",
      "Train is a noun. Goes is a verb. Far is an adjective. \n"
     ]
    }
   ],
   "source": [
    "noun = input(\"Input a noun: \")\n",
    "verb = input(\"Input a verb: \")\n",
    "adjective = input(\"Input an adjective: \")\n",
    "print(f\"{noun.title()} is a noun. {verb.title()} is a verb. {adjective.title()} is an adjective. \")\n"
   ]
  },
  {
   "cell_type": "markdown",
   "metadata": {},
   "source": [
    "## Exercise #3 <br>\n",
    "<p>Take in a users input for their age, if they are younger than 18 print kids, if they're 18 to 65 print adults, else print seniors</p>"
   ]
  },
  {
   "cell_type": "code",
   "execution_count": 89,
   "metadata": {},
   "outputs": [
    {
     "name": "stdout",
     "output_type": "stream",
     "text": [
      "What is your age? 30\n",
      "adults\n"
     ]
    }
   ],
   "source": [
    "age = int(input(\"What is your age? \"))\n",
    "if age < 18:\n",
    "    print(\"kids\")\n",
    "elif age >= 18 and age <= 65:\n",
    "    print(\"adults\")\n",
    "else: \n",
    "    print(\"seniors\")"
   ]
  },
  {
   "cell_type": "markdown",
   "metadata": {},
   "source": [
    "## Exercise #4\n",
    "<p>Take in a number from a user input. Square and Cube that number</p>"
   ]
  },
  {
   "cell_type": "code",
   "execution_count": 93,
   "metadata": {},
   "outputs": [
    {
     "name": "stdout",
     "output_type": "stream",
     "text": [
      "Enter a number that will be squared and cubed: 3\n",
      "9\n",
      "27\n"
     ]
    }
   ],
   "source": [
    "num = int(input(\"Enter a number that will be squared and cubed: \"))\n",
    "print(num**2)\n",
    "print(num**3)"
   ]
  }
 ],
 "metadata": {
  "kernelspec": {
   "display_name": "Python 3 (ipykernel)",
   "language": "python",
   "name": "python3"
  },
  "language_info": {
   "codemirror_mode": {
    "name": "ipython",
    "version": 3
   },
   "file_extension": ".py",
   "mimetype": "text/x-python",
   "name": "python",
   "nbconvert_exporter": "python",
   "pygments_lexer": "ipython3",
   "version": "3.9.13"
  }
 },
 "nbformat": 4,
 "nbformat_minor": 2
}
